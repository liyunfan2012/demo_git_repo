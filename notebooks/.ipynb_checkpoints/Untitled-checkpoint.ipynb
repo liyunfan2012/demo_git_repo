{
 "cells": [
  {
   "cell_type": "code",
   "execution_count": 1,
   "id": "9cff262b-084b-4e9d-a3d0-a7b24d182745",
   "metadata": {},
   "outputs": [],
   "source": [
    "import os\n",
    "os.sys.path.append('..')"
   ]
  },
  {
   "cell_type": "code",
   "execution_count": 5,
   "id": "02ee1f4b-c7af-47f7-b186-a0bb8eca1055",
   "metadata": {},
   "outputs": [],
   "source": [
    "from complex_df_processor import complex_float as cf"
   ]
  },
  {
   "cell_type": "code",
   "execution_count": 8,
   "id": "f9d14dc5-86d8-4126-843d-18df2cbc46b0",
   "metadata": {},
   "outputs": [],
   "source": [
    "cf1 = cf.ComplexFloatCore(3,4)\n",
    "cf2 = cf.ComplexFloatCore(2,2)\n"
   ]
  },
  {
   "cell_type": "code",
   "execution_count": 8,
   "id": "40c45129-653f-4bc9-98e2-e66a744f218f",
   "metadata": {},
   "outputs": [
    {
     "name": "stdout",
     "output_type": "stream",
     "text": [
      "6+6j\n"
     ]
    }
   ],
   "source": [
    "print(cf3)"
   ]
  },
  {
   "cell_type": "code",
   "execution_count": 11,
   "id": "f54957d6-00d2-4275-906f-e905c19db40f",
   "metadata": {},
   "outputs": [
    {
     "data": {
      "text/plain": [
       "0.25"
      ]
     },
     "execution_count": 11,
     "metadata": {},
     "output_type": "execute_result"
    }
   ],
   "source": [
    "import math\n",
    "math.atan(1)/math.pi"
   ]
  },
  {
   "cell_type": "code",
   "execution_count": null,
   "id": "a4d4c10d-157a-4d77-be09-22c8e563caed",
   "metadata": {},
   "outputs": [],
   "source": []
  }
 ],
 "metadata": {
  "kernelspec": {
   "display_name": "Python [conda env:deeplearning] *",
   "language": "python",
   "name": "conda-env-deeplearning-py"
  },
  "language_info": {
   "codemirror_mode": {
    "name": "ipython",
    "version": 3
   },
   "file_extension": ".py",
   "mimetype": "text/x-python",
   "name": "python",
   "nbconvert_exporter": "python",
   "pygments_lexer": "ipython3",
   "version": "3.10.4"
  }
 },
 "nbformat": 4,
 "nbformat_minor": 5
}
