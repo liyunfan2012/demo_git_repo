{
 "cells": [
  {
   "cell_type": "code",
   "execution_count": 3,
   "id": "9cff262b-084b-4e9d-a3d0-a7b24d182745",
   "metadata": {},
   "outputs": [],
   "source": [
    "import os\n",
    "os.sys.path.append('..')\n",
    "from complex_df_processor.complex_float import *\n",
    "from complex_df_processor.complex_float import ComlexFloat"
   ]
  },
  {
   "cell_type": "code",
   "execution_count": 19,
   "id": "02ee1f4b-c7af-47f7-b186-a0bb8eca1055",
   "metadata": {},
   "outputs": [
    {
     "data": {
      "text/plain": [
       "1.0"
      ]
     },
     "execution_count": 19,
     "metadata": {},
     "output_type": "execute_result"
    }
   ],
   "source": [
    "cf1 = ComplexFloatCore(1,1)\n",
    "cf2 = ComplexFloatCore(2,-2)\n",
    "cf1.arg*4/pi\n"
   ]
  },
  {
   "cell_type": "code",
   "execution_count": 4,
   "id": "f9d14dc5-86d8-4126-843d-18df2cbc46b0",
   "metadata": {},
   "outputs": [],
   "source": [
    "cf1 = ComplexFloatCore(3,4)\n",
    "cf2 = ComplexFloatCore(2,2)\n",
    "cf3 = ComlexFloat(2,5)"
   ]
  },
  {
   "cell_type": "code",
   "execution_count": 6,
   "id": "40c45129-653f-4bc9-98e2-e66a744f218f",
   "metadata": {},
   "outputs": [
    {
     "data": {
      "text/plain": [
       "True"
      ]
     },
     "execution_count": 6,
     "metadata": {},
     "output_type": "execute_result"
    }
   ],
   "source": [
    "isinstance(cf3,ComplexFloatCore)"
   ]
  },
  {
   "cell_type": "code",
   "execution_count": 11,
   "id": "f54957d6-00d2-4275-906f-e905c19db40f",
   "metadata": {},
   "outputs": [
    {
     "data": {
      "text/plain": [
       "0.25"
      ]
     },
     "execution_count": 11,
     "metadata": {},
     "output_type": "execute_result"
    }
   ],
   "source": [
    "import math\n",
    "math.atan(1)/math.pi"
   ]
  },
  {
   "cell_type": "code",
   "execution_count": 10,
   "id": "a4d4c10d-157a-4d77-be09-22c8e563caed",
   "metadata": {},
   "outputs": [],
   "source": [
    "a=[ComlexFloat(2,5),ComlexFloat(2,6),ComlexFloat(3,5)]\n",
    "b=[ComlexFloat(4,5),ComlexFloat(4,6),ComlexFloat(3,2)]"
   ]
  },
  {
   "cell_type": "code",
   "execution_count": 14,
   "id": "7fc34814-97b7-4658-9e8c-0ea63502e9c3",
   "metadata": {},
   "outputs": [],
   "source": [
    "import pandas as pd\n",
    "c=pd.DataFrame({'a':a,'b':b})"
   ]
  },
  {
   "cell_type": "code",
   "execution_count": 15,
   "id": "cfd52558-eda4-4e56-9ba2-812156179ef7",
   "metadata": {},
   "outputs": [
    {
     "data": {
      "text/html": [
       "<div>\n",
       "<style scoped>\n",
       "    .dataframe tbody tr th:only-of-type {\n",
       "        vertical-align: middle;\n",
       "    }\n",
       "\n",
       "    .dataframe tbody tr th {\n",
       "        vertical-align: top;\n",
       "    }\n",
       "\n",
       "    .dataframe thead th {\n",
       "        text-align: right;\n",
       "    }\n",
       "</style>\n",
       "<table border=\"1\" class=\"dataframe\">\n",
       "  <thead>\n",
       "    <tr style=\"text-align: right;\">\n",
       "      <th></th>\n",
       "      <th>a</th>\n",
       "      <th>b</th>\n",
       "    </tr>\n",
       "  </thead>\n",
       "  <tbody>\n",
       "    <tr>\n",
       "      <th>0</th>\n",
       "      <td>2+5j</td>\n",
       "      <td>4+5j</td>\n",
       "    </tr>\n",
       "    <tr>\n",
       "      <th>1</th>\n",
       "      <td>2+6j</td>\n",
       "      <td>4+6j</td>\n",
       "    </tr>\n",
       "    <tr>\n",
       "      <th>2</th>\n",
       "      <td>3+5j</td>\n",
       "      <td>3+2j</td>\n",
       "    </tr>\n",
       "  </tbody>\n",
       "</table>\n",
       "</div>"
      ],
      "text/plain": [
       "      a     b\n",
       "0  2+5j  4+5j\n",
       "1  2+6j  4+6j\n",
       "2  3+5j  3+2j"
      ]
     },
     "execution_count": 15,
     "metadata": {},
     "output_type": "execute_result"
    }
   ],
   "source": [
    "c"
   ]
  },
  {
   "cell_type": "code",
   "execution_count": null,
   "id": "14fc5b85-e832-4ef3-9b3e-9aaf5bb5bb49",
   "metadata": {},
   "outputs": [],
   "source": []
  }
 ],
 "metadata": {
  "kernelspec": {
   "display_name": "Python [conda env:deeplearning] *",
   "language": "python",
   "name": "conda-env-deeplearning-py"
  },
  "language_info": {
   "codemirror_mode": {
    "name": "ipython",
    "version": 3
   },
   "file_extension": ".py",
   "mimetype": "text/x-python",
   "name": "python",
   "nbconvert_exporter": "python",
   "pygments_lexer": "ipython3",
   "version": "3.10.4"
  }
 },
 "nbformat": 4,
 "nbformat_minor": 5
}
