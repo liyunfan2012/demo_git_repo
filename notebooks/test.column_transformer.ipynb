{
 "cells": [
  {
   "cell_type": "markdown",
   "id": "90f0ccff-d04b-4301-b4d3-b1594f669b27",
   "metadata": {},
   "source": [
    "## Subpackage `column_transformer`"
   ]
  },
  {
   "cell_type": "markdown",
   "id": "9e3e346a-7bd9-4833-adce-da13b0acc748",
   "metadata": {},
   "source": [
    "This subpackage contains the following modules\n",
    "- _base\n",
    "- _series_processor"
   ]
  },
  {
   "cell_type": "code",
   "execution_count": 1,
   "id": "2d030f06-1bd6-4461-930f-24e478c1fdfb",
   "metadata": {},
   "outputs": [],
   "source": [
    "import sys\n",
    "sys.path.append('..')"
   ]
  },
  {
   "cell_type": "markdown",
   "id": "59d472e7-441c-42ed-80bf-64d03891a190",
   "metadata": {},
   "source": [
    "### _series_processor"
   ]
  },
  {
   "cell_type": "markdown",
   "id": "7b4527ee-45a3-4551-ac9d-477d4511fcc6",
   "metadata": {},
   "source": [
    "#### Class `SeriesProcessor`"
   ]
  },
  {
   "cell_type": "markdown",
   "id": "0978c664-d8c7-4221-9315-63bbda17f40c",
   "metadata": {},
   "source": [
    "- method `series`"
   ]
  },
  {
   "cell_type": "code",
   "execution_count": 6,
   "id": "42b8c5a4-8fab-4dc7-8d13-a6f6756d987f",
   "metadata": {},
   "outputs": [],
   "source": [
    "from complexdf_processor.column_transformer import SeriesProcessor\n",
    "sp = SeriesProcessor()\n",
    "lst = [(1,1),(0,0.5),(-1,-2)]\n",
    "sp.series(lst)"
   ]
  },
  {
   "cell_type": "markdown",
   "id": "bc96c0b9-e34c-4c84-a234-b4660086adc8",
   "metadata": {},
   "source": [
    "- method `unique`"
   ]
  },
  {
   "cell_type": "code",
   "execution_count": 6,
   "id": "97a80729-35ab-4dff-8076-1a63e8473025",
   "metadata": {},
   "outputs": [],
   "source": []
  },
  {
   "cell_type": "markdown",
   "id": "3539efda-c901-4e53-8665-041b68ebd4d8",
   "metadata": {},
   "source": [
    "- method `rotate`"
   ]
  },
  {
   "cell_type": "code",
   "execution_count": 6,
   "id": "7710ac4f-eebb-4d99-bfe2-f282b997662b",
   "metadata": {},
   "outputs": [],
   "source": []
  },
  {
   "cell_type": "markdown",
   "id": "898b46de-a949-48d0-9f34-da7f631bc1f6",
   "metadata": {},
   "source": [
    "- method `conj`"
   ]
  },
  {
   "cell_type": "code",
   "execution_count": 7,
   "id": "ec721e55-f3f4-42bd-96ae-153f8d9f9bad",
   "metadata": {},
   "outputs": [
    {
     "ename": "SyntaxError",
     "evalue": "invalid syntax (2886817246.py, line 1)",
     "output_type": "error",
     "traceback": [
      "\u001b[0;36m  Input \u001b[0;32mIn [7]\u001b[0;36m\u001b[0m\n\u001b[0;31m    - method `conj`\u001b[0m\n\u001b[0m             ^\u001b[0m\n\u001b[0;31mSyntaxError\u001b[0m\u001b[0;31m:\u001b[0m invalid syntax\n"
     ]
    }
   ],
   "source": []
  },
  {
   "cell_type": "markdown",
   "id": "4ad56ef2-a0a2-42df-b8ed-6ce7a2aa800f",
   "metadata": {},
   "source": [
    "### _base"
   ]
  },
  {
   "cell_type": "markdown",
   "id": "4d05578a-3ba6-48c7-93a5-a740c68fc469",
   "metadata": {},
   "source": [
    "#### ColumnDropTrivial"
   ]
  },
  {
   "cell_type": "code",
   "execution_count": 2,
   "id": "127c4523-9324-4a91-be5a-d3e5a6c0ab6e",
   "metadata": {},
   "outputs": [
    {
     "data": {
      "text/html": [
       "<div>\n",
       "<style scoped>\n",
       "    .dataframe tbody tr th:only-of-type {\n",
       "        vertical-align: middle;\n",
       "    }\n",
       "\n",
       "    .dataframe tbody tr th {\n",
       "        vertical-align: top;\n",
       "    }\n",
       "\n",
       "    .dataframe thead th {\n",
       "        text-align: right;\n",
       "    }\n",
       "</style>\n",
       "<table border=\"1\" class=\"dataframe\">\n",
       "  <thead>\n",
       "    <tr style=\"text-align: right;\">\n",
       "      <th></th>\n",
       "      <th>s2</th>\n",
       "      <th>s3</th>\n",
       "    </tr>\n",
       "  </thead>\n",
       "  <tbody>\n",
       "    <tr>\n",
       "      <th>0</th>\n",
       "      <td>1+1i</td>\n",
       "      <td>1.2+1.1i</td>\n",
       "    </tr>\n",
       "    <tr>\n",
       "      <th>1</th>\n",
       "      <td>-1+1i</td>\n",
       "      <td>2.1+1i</td>\n",
       "    </tr>\n",
       "    <tr>\n",
       "      <th>2</th>\n",
       "      <td>1.5-1.5i</td>\n",
       "      <td>1.5-1.5i</td>\n",
       "    </tr>\n",
       "    <tr>\n",
       "      <th>3</th>\n",
       "      <td>0+2.5i</td>\n",
       "      <td>None</td>\n",
       "    </tr>\n",
       "    <tr>\n",
       "      <th>4</th>\n",
       "      <td>-3.2+0i</td>\n",
       "      <td>-3.2+0i</td>\n",
       "    </tr>\n",
       "  </tbody>\n",
       "</table>\n",
       "</div>"
      ],
      "text/plain": [
       "         s2        s3\n",
       "0      1+1i  1.2+1.1i\n",
       "1     -1+1i    2.1+1i\n",
       "2  1.5-1.5i  1.5-1.5i\n",
       "3    0+2.5i      None\n",
       "4   -3.2+0i   -3.2+0i"
      ]
     },
     "execution_count": 2,
     "metadata": {},
     "output_type": "execute_result"
    }
   ],
   "source": [
    "import math\n",
    "import pandas as pd\n",
    "from complexdf_processor.column_transformer import ColumnDropTrivial,SeriesProcessor\n",
    "sp = SeriesProcessor()\n",
    "s1 = sp.series([(1,1),(1,1),(1,1),(1,1),(1,1)])\n",
    "s2 = sp.series([(1,1),(-1,1),(1.5,-1.5),(0,2.5),(-3.2,0)])\n",
    "s3 = sp.series([(1.2,1.1),(2.1,1),(1.5,-1.5),None,(-3.2,0)])\n",
    "X = pd.DataFrame({'s1':s1,'s2':s2,'s3':s3})\n",
    "cmr = ColumnDropTrivial()\n",
    "cmr.fit_transform(X)"
   ]
  },
  {
   "cell_type": "code",
   "execution_count": null,
   "id": "3111cdfe-fb02-4a85-bcfd-8eeaa4cc7cc1",
   "metadata": {},
   "outputs": [],
   "source": []
  },
  {
   "cell_type": "markdown",
   "id": "c062b8d5-6206-4776-a178-4d12e086ae01",
   "metadata": {},
   "source": [
    "#### ColumnMapRotate"
   ]
  },
  {
   "cell_type": "code",
   "execution_count": 3,
   "id": "073f686d-7e1c-4fdf-81f6-dd5e5a6187bb",
   "metadata": {},
   "outputs": [
    {
     "data": {
      "text/html": [
       "<div>\n",
       "<style scoped>\n",
       "    .dataframe tbody tr th:only-of-type {\n",
       "        vertical-align: middle;\n",
       "    }\n",
       "\n",
       "    .dataframe tbody tr th {\n",
       "        vertical-align: top;\n",
       "    }\n",
       "\n",
       "    .dataframe thead th {\n",
       "        text-align: right;\n",
       "    }\n",
       "</style>\n",
       "<table border=\"1\" class=\"dataframe\">\n",
       "  <thead>\n",
       "    <tr style=\"text-align: right;\">\n",
       "      <th></th>\n",
       "      <th>s1</th>\n",
       "      <th>s2</th>\n",
       "      <th>s3</th>\n",
       "    </tr>\n",
       "  </thead>\n",
       "  <tbody>\n",
       "    <tr>\n",
       "      <th>0</th>\n",
       "      <td>-1.0+1.0i</td>\n",
       "      <td>-1.0+1.0i</td>\n",
       "      <td>-1.1+1.2i</td>\n",
       "    </tr>\n",
       "    <tr>\n",
       "      <th>1</th>\n",
       "      <td>-1.0+1.0i</td>\n",
       "      <td>-1.0-1.0i</td>\n",
       "      <td>-1.0+2.1i</td>\n",
       "    </tr>\n",
       "    <tr>\n",
       "      <th>2</th>\n",
       "      <td>-1.0+1.0i</td>\n",
       "      <td>1.5+1.5i</td>\n",
       "      <td>1.5+1.5i</td>\n",
       "    </tr>\n",
       "    <tr>\n",
       "      <th>3</th>\n",
       "      <td>-1.0+1.0i</td>\n",
       "      <td>-2.5+0.0i</td>\n",
       "      <td>NaN</td>\n",
       "    </tr>\n",
       "    <tr>\n",
       "      <th>4</th>\n",
       "      <td>-1.0+1.0i</td>\n",
       "      <td>-0.0-3.2i</td>\n",
       "      <td>-0.0-3.2i</td>\n",
       "    </tr>\n",
       "  </tbody>\n",
       "</table>\n",
       "</div>"
      ],
      "text/plain": [
       "          s1         s2         s3\n",
       "0  -1.0+1.0i  -1.0+1.0i  -1.1+1.2i\n",
       "1  -1.0+1.0i  -1.0-1.0i  -1.0+2.1i\n",
       "2  -1.0+1.0i   1.5+1.5i   1.5+1.5i\n",
       "3  -1.0+1.0i  -2.5+0.0i        NaN\n",
       "4  -1.0+1.0i  -0.0-3.2i  -0.0-3.2i"
      ]
     },
     "execution_count": 3,
     "metadata": {},
     "output_type": "execute_result"
    }
   ],
   "source": [
    "import math\n",
    "import pandas as pd\n",
    "from complexdf_processor.column_transformer import ColumnMapRotate,SeriesProcessor\n",
    "sp = SeriesProcessor()\n",
    "s1 = sp.series([(1,1),(1,1),(1,1),(1,1),(1,1)])\n",
    "s2 = sp.series([(1,1),(-1,1),(1.5,-1.5),(0,2.5),(-3.2,0)])\n",
    "s3 = sp.series([(1.2,1.1),(2.1,1),(1.5,-1.5),None,(-3.2,0)])\n",
    "X = pd.DataFrame({'s1':s1,'s2':s2,'s3':s3})\n",
    "cmr = ColumnMapRotate(math.pi/2)\n",
    "cmr.fit_transform(X)"
   ]
  },
  {
   "cell_type": "markdown",
   "id": "0180e824-964b-4671-9f07-bd465ce22469",
   "metadata": {},
   "source": [
    "#### ComplexDfConjugate"
   ]
  },
  {
   "cell_type": "code",
   "execution_count": null,
   "id": "fc5c72e8-3340-462f-8344-a2f50ce3eb89",
   "metadata": {},
   "outputs": [],
   "source": []
  }
 ],
 "metadata": {
  "kernelspec": {
   "display_name": "Python [conda env:deeplearning] *",
   "language": "python",
   "name": "conda-env-deeplearning-py"
  },
  "language_info": {
   "codemirror_mode": {
    "name": "ipython",
    "version": 3
   },
   "file_extension": ".py",
   "mimetype": "text/x-python",
   "name": "python",
   "nbconvert_exporter": "python",
   "pygments_lexer": "ipython3",
   "version": "3.10.4"
  }
 },
 "nbformat": 4,
 "nbformat_minor": 5
}
