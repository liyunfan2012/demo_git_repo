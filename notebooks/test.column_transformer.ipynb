{
 "cells": [
  {
   "cell_type": "markdown",
   "id": "90f0ccff-d04b-4301-b4d3-b1594f669b27",
   "metadata": {},
   "source": [
    "## column_Transformer"
   ]
  },
  {
   "cell_type": "markdown",
   "id": "9e3e346a-7bd9-4833-adce-da13b0acc748",
   "metadata": {},
   "source": [
    "This subpackage contains the following modules\n",
    "- _base\n",
    "- _series_processor"
   ]
  },
  {
   "cell_type": "code",
   "execution_count": 1,
   "id": "2d030f06-1bd6-4461-930f-24e478c1fdfb",
   "metadata": {},
   "outputs": [],
   "source": [
    "import sys\n",
    "sys.path.append('..')"
   ]
  },
  {
   "cell_type": "markdown",
   "id": "4d8b562b-7d7f-4dfe-b02a-ca4100a925f1",
   "metadata": {},
   "source": [
    "### _series_processor"
   ]
  },
  {
   "cell_type": "markdown",
   "id": "3fafd5a7-7d0f-4c4a-af13-1194f95f9bb9",
   "metadata": {},
   "source": []
  },
  {
   "cell_type": "markdown",
   "id": "4ad56ef2-a0a2-42df-b8ed-6ce7a2aa800f",
   "metadata": {},
   "source": [
    "### _base"
   ]
  },
  {
   "cell_type": "markdown",
   "id": "4d05578a-3ba6-48c7-93a5-a740c68fc469",
   "metadata": {},
   "source": [
    "#### ColumnDropTrivial"
   ]
  },
  {
   "cell_type": "code",
   "execution_count": 1,
   "id": "127c4523-9324-4a91-be5a-d3e5a6c0ab6e",
   "metadata": {},
   "outputs": [
    {
     "data": {
      "text/html": [
       "<div>\n",
       "<style scoped>\n",
       "    .dataframe tbody tr th:only-of-type {\n",
       "        vertical-align: middle;\n",
       "    }\n",
       "\n",
       "    .dataframe tbody tr th {\n",
       "        vertical-align: top;\n",
       "    }\n",
       "\n",
       "    .dataframe thead th {\n",
       "        text-align: right;\n",
       "    }\n",
       "</style>\n",
       "<table border=\"1\" class=\"dataframe\">\n",
       "  <thead>\n",
       "    <tr style=\"text-align: right;\">\n",
       "      <th></th>\n",
       "      <th>s1</th>\n",
       "      <th>s2</th>\n",
       "      <th>s3</th>\n",
       "    </tr>\n",
       "  </thead>\n",
       "  <tbody>\n",
       "    <tr>\n",
       "      <th>0</th>\n",
       "      <td>-1.0+1.0i</td>\n",
       "      <td>-1.0+1.0i</td>\n",
       "      <td>-1.1+1.2i</td>\n",
       "    </tr>\n",
       "    <tr>\n",
       "      <th>1</th>\n",
       "      <td>-1.0+1.0i</td>\n",
       "      <td>-1.0-1.0i</td>\n",
       "      <td>-1.0+2.1i</td>\n",
       "    </tr>\n",
       "    <tr>\n",
       "      <th>2</th>\n",
       "      <td>-1.0+1.0i</td>\n",
       "      <td>1.5+1.5i</td>\n",
       "      <td>1.5+1.5i</td>\n",
       "    </tr>\n",
       "    <tr>\n",
       "      <th>3</th>\n",
       "      <td>-1.0+1.0i</td>\n",
       "      <td>-2.5+0.0i</td>\n",
       "      <td>NaN</td>\n",
       "    </tr>\n",
       "    <tr>\n",
       "      <th>4</th>\n",
       "      <td>-1.0+1.0i</td>\n",
       "      <td>-0.0-3.2i</td>\n",
       "      <td>-0.0-3.2i</td>\n",
       "    </tr>\n",
       "  </tbody>\n",
       "</table>\n",
       "</div>"
      ],
      "text/plain": [
       "          s1         s2         s3\n",
       "0  -1.0+1.0i  -1.0+1.0i  -1.1+1.2i\n",
       "1  -1.0+1.0i  -1.0-1.0i  -1.0+2.1i\n",
       "2  -1.0+1.0i   1.5+1.5i   1.5+1.5i\n",
       "3  -1.0+1.0i  -2.5+0.0i        NaN\n",
       "4  -1.0+1.0i  -0.0-3.2i  -0.0-3.2i"
      ]
     },
     "execution_count": 1,
     "metadata": {},
     "output_type": "execute_result"
    }
   ],
   "source": [
    "import os\n",
    "os.sys.path.append('..')\n",
    "import math\n",
    "import pandas as pd\n",
    "import numpy as np\n",
    "from complexdf_processor.column_transformer import ColumnMapRotate,SeriesProcessor\n",
    "\n",
    "sp = SeriesProcessor()\n",
    "s1 = sp.series([(1,1),(1,1),(1,1),(1,1),(1,1)])\n",
    "s2 = sp.series([(1,1),(-1,1),(1.5,-1.5),(0,2.5),(-3.2,0)])\n",
    "s3 = sp.series([(1.2,1.1),(2.1,1),(1.5,-1.5),None,(-3.2,0)])\n",
    "X = pd.DataFrame({'s1':s1,'s2':s2,'s3':s3})\n",
    "\n",
    "cmr = ColumnMapRotate(math.pi/2)\n",
    "cmr.fit_transform(X)"
   ]
  },
  {
   "cell_type": "code",
   "execution_count": 4,
   "id": "a1ec0756-5178-4d81-8d4b-87b654eba19d",
   "metadata": {},
   "outputs": [
    {
     "name": "stdout",
     "output_type": "stream",
     "text": [
      "0.0+1.0i\n",
      "0.0+1.0i\n",
      "0.0+1.0i\n"
     ]
    },
    {
     "data": {
      "text/html": [
       "<div>\n",
       "<style scoped>\n",
       "    .dataframe tbody tr th:only-of-type {\n",
       "        vertical-align: middle;\n",
       "    }\n",
       "\n",
       "    .dataframe tbody tr th {\n",
       "        vertical-align: top;\n",
       "    }\n",
       "\n",
       "    .dataframe thead th {\n",
       "        text-align: right;\n",
       "    }\n",
       "</style>\n",
       "<table border=\"1\" class=\"dataframe\">\n",
       "  <thead>\n",
       "    <tr style=\"text-align: right;\">\n",
       "      <th></th>\n",
       "      <th>s1</th>\n",
       "      <th>s2</th>\n",
       "      <th>s3</th>\n",
       "    </tr>\n",
       "  </thead>\n",
       "  <tbody>\n",
       "    <tr>\n",
       "      <th>0</th>\n",
       "      <td>-1.0+1.0i</td>\n",
       "      <td>-1.0+1.0i</td>\n",
       "      <td>-1.1+1.2i</td>\n",
       "    </tr>\n",
       "    <tr>\n",
       "      <th>1</th>\n",
       "      <td>-1.0+1.0i</td>\n",
       "      <td>-1.0-1.0i</td>\n",
       "      <td>-1.0+2.1i</td>\n",
       "    </tr>\n",
       "    <tr>\n",
       "      <th>2</th>\n",
       "      <td>-1.0+1.0i</td>\n",
       "      <td>1.5+1.5i</td>\n",
       "      <td>1.5+1.5i</td>\n",
       "    </tr>\n",
       "    <tr>\n",
       "      <th>3</th>\n",
       "      <td>-1.0+1.0i</td>\n",
       "      <td>-2.5+0.0i</td>\n",
       "      <td>NaN</td>\n",
       "    </tr>\n",
       "    <tr>\n",
       "      <th>4</th>\n",
       "      <td>-1.0+1.0i</td>\n",
       "      <td>-0.0-3.2i</td>\n",
       "      <td>-0.0-3.2i</td>\n",
       "    </tr>\n",
       "  </tbody>\n",
       "</table>\n",
       "</div>"
      ],
      "text/plain": [
       "          s1         s2         s3\n",
       "0  -1.0+1.0i  -1.0+1.0i  -1.1+1.2i\n",
       "1  -1.0+1.0i  -1.0-1.0i  -1.0+2.1i\n",
       "2  -1.0+1.0i   1.5+1.5i   1.5+1.5i\n",
       "3  -1.0+1.0i  -2.5+0.0i        NaN\n",
       "4  -1.0+1.0i  -0.0-3.2i  -0.0-3.2i"
      ]
     },
     "execution_count": 4,
     "metadata": {},
     "output_type": "execute_result"
    }
   ],
   "source": [
    "cmr = ColumnMapRotate(math.pi/2)\n",
    "cmr.fit_transform(X)"
   ]
  },
  {
   "cell_type": "code",
   "execution_count": 13,
   "id": "3111cdfe-fb02-4a85-bcfd-8eeaa4cc7cc1",
   "metadata": {},
   "outputs": [
    {
     "data": {
      "text/html": [
       "<div>\n",
       "<style scoped>\n",
       "    .dataframe tbody tr th:only-of-type {\n",
       "        vertical-align: middle;\n",
       "    }\n",
       "\n",
       "    .dataframe tbody tr th {\n",
       "        vertical-align: top;\n",
       "    }\n",
       "\n",
       "    .dataframe thead th {\n",
       "        text-align: right;\n",
       "    }\n",
       "</style>\n",
       "<table border=\"1\" class=\"dataframe\">\n",
       "  <thead>\n",
       "    <tr style=\"text-align: right;\">\n",
       "      <th></th>\n",
       "      <th>s1</th>\n",
       "      <th>s2</th>\n",
       "      <th>s3</th>\n",
       "    </tr>\n",
       "  </thead>\n",
       "  <tbody>\n",
       "    <tr>\n",
       "      <th>0</th>\n",
       "      <td>1+1i</td>\n",
       "      <td>1+1i</td>\n",
       "      <td>1.2+1.1i</td>\n",
       "    </tr>\n",
       "    <tr>\n",
       "      <th>1</th>\n",
       "      <td>1+1i</td>\n",
       "      <td>-1+1i</td>\n",
       "      <td>2.1+1i</td>\n",
       "    </tr>\n",
       "    <tr>\n",
       "      <th>2</th>\n",
       "      <td>1+1i</td>\n",
       "      <td>1.5-1.5i</td>\n",
       "      <td>1.5-1.5i</td>\n",
       "    </tr>\n",
       "    <tr>\n",
       "      <th>3</th>\n",
       "      <td>1+1i</td>\n",
       "      <td>0+2.5i</td>\n",
       "      <td>None</td>\n",
       "    </tr>\n",
       "    <tr>\n",
       "      <th>4</th>\n",
       "      <td>1+1i</td>\n",
       "      <td>-3.2+0i</td>\n",
       "      <td>-3.2+0i</td>\n",
       "    </tr>\n",
       "  </tbody>\n",
       "</table>\n",
       "</div>"
      ],
      "text/plain": [
       "     s1        s2        s3\n",
       "0  1+1i      1+1i  1.2+1.1i\n",
       "1  1+1i     -1+1i    2.1+1i\n",
       "2  1+1i  1.5-1.5i  1.5-1.5i\n",
       "3  1+1i    0+2.5i      None\n",
       "4  1+1i   -3.2+0i   -3.2+0i"
      ]
     },
     "execution_count": 13,
     "metadata": {},
     "output_type": "execute_result"
    }
   ],
   "source": [
    "X"
   ]
  },
  {
   "cell_type": "markdown",
   "id": "c062b8d5-6206-4776-a178-4d12e086ae01",
   "metadata": {},
   "source": [
    "#### ColumnMapRotate"
   ]
  },
  {
   "cell_type": "code",
   "execution_count": null,
   "id": "073f686d-7e1c-4fdf-81f6-dd5e5a6187bb",
   "metadata": {},
   "outputs": [],
   "source": []
  },
  {
   "cell_type": "markdown",
   "id": "0180e824-964b-4671-9f07-bd465ce22469",
   "metadata": {},
   "source": [
    "#### ComplexDfConjugate"
   ]
  },
  {
   "cell_type": "code",
   "execution_count": null,
   "id": "fc5c72e8-3340-462f-8344-a2f50ce3eb89",
   "metadata": {},
   "outputs": [],
   "source": []
  }
 ],
 "metadata": {
  "kernelspec": {
   "display_name": "Python [conda env:deeplearning] *",
   "language": "python",
   "name": "conda-env-deeplearning-py"
  },
  "language_info": {
   "codemirror_mode": {
    "name": "ipython",
    "version": 3
   },
   "file_extension": ".py",
   "mimetype": "text/x-python",
   "name": "python",
   "nbconvert_exporter": "python",
   "pygments_lexer": "ipython3",
   "version": "3.10.4"
  }
 },
 "nbformat": 4,
 "nbformat_minor": 5
}
